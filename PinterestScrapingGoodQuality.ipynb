{
 "cells": [
  {
   "cell_type": "code",
   "execution_count": 1,
   "metadata": {},
   "outputs": [],
   "source": [
    "from bs4 import BeautifulSoup\n",
    "\n",
    "import requests\n",
    "\n",
    "from selenium import webdriver\n",
    "from selenium.webdriver.common.keys import Keys\n",
    "from selenium.webdriver.common.by import By\n",
    "from selenium.webdriver.support.wait import WebDriverWait\n",
    "from selenium.webdriver.support import expected_conditions as EC\n",
    "from selenium.webdriver.common.action_chains import ActionChains\n",
    "\n",
    "from webdriver_manager.chrome import ChromeDriverManager\n",
    "\n",
    "import os\n",
    "\n",
    "from time import sleep"
   ]
  },
  {
   "cell_type": "code",
   "execution_count": null,
   "metadata": {},
   "outputs": [],
   "source": [
    "#login\n",
    "driver = webdriver.Chrome(ChromeDriverManager().install())\n",
    "driver.get('https://www.pinterest.jp/login/')\n",
    "email = WebDriverWait(driver, 20).until(EC.element_to_be_clickable((By.CSS_SELECTOR, \"input[autocomplete='email']\")))\n",
    "password = WebDriverWait(driver, 20).until(EC.element_to_be_clickable((By.CSS_SELECTOR, \"input[autocomplete='new-password']\")))\n",
    "# accept_all = WebDriverWait(driver, 10).until(EC.element_to_be_clickable((By.XPATH, '//button[contains(text(), \"Accept All\")]'))).click()\n",
    "email.clear()\n",
    "password.clear()\n",
    "email.send_keys(\"your email\")\n",
    "password.send_keys(\"your password\")\n",
    "button = WebDriverWait(driver, 10).until(EC.element_to_be_clickable((By.CSS_SELECTOR, \"button[type='submit']\"))).click()"
   ]
  },
  {
   "cell_type": "code",
   "execution_count": 8,
   "metadata": {},
   "outputs": [],
   "source": [
    "keyword = \"search word\"\n",
    "sample = f\"https://www.pinterest.jp/search/pins/?q={keyword}&rs=typed\"\n",
    "\n",
    "images = 50"
   ]
  },
  {
   "cell_type": "code",
   "execution_count": null,
   "metadata": {},
   "outputs": [],
   "source": [
    "img_data_list = []\n",
    "count = 0\n",
    "\n",
    "def main():\n",
    "    website(driver)\n",
    "    while True:\n",
    "        count = hover(driver)\n",
    "        if (count == images):\n",
    "            print(f\"{count} photos were saved\")\n",
    "            break\n",
    "        scroll(driver)\n",
    "\n",
    "def website(driver):\n",
    "    driver.get(sample)\n",
    "\n",
    "def hover(driver):\n",
    "    global count\n",
    "    print(\"starting hover\")\n",
    "    imgs = driver.find_element(By.CSS_SELECTOR, 'div.zI7.iyn.Hsu')\n",
    "    imgs = imgs.find_elements(By.TAG_NAME, 'img')\n",
    "    for i, img in enumerate(imgs):\n",
    "        if not img in img_data_list:\n",
    "            try:\n",
    "                sleep(1)\n",
    "                if count == images:\n",
    "                    break\n",
    "                actions = ActionChains(driver)\n",
    "                actions.move_to_element(img).perform()\n",
    "            except:\n",
    "                break\n",
    "            try:\n",
    "                driver.find_element(By.CSS_SELECTOR, 'div[data-test-id=\"feedback-button\"]').click()\n",
    "                pop = driver.find_element(By.CSS_SELECTOR, 'div[aria-label=\"Popover\"]')\n",
    "                sleep(1)\n",
    "                pop.find_element(By.CSS_SELECTOR, 'span[title=\"Download image\"]').click()\n",
    "                count = count + 1\n",
    "                img_data_list.append(img)\n",
    "                print(count)\n",
    "            except:\n",
    "                continue\n",
    "    return count\n",
    "\n",
    "def scroll(driver):\n",
    "    last = ''\n",
    "    imgs = driver.find_elements(By.TAG_NAME, 'img')\n",
    "    last = imgs[-1]\n",
    "    actions = ActionChains(driver)\n",
    "    actions.move_to_element(last).perform()\n",
    "\n",
    "if __name__ == \"__main__\":\n",
    "    main()"
   ]
  }
 ],
 "metadata": {
  "kernelspec": {
   "display_name": "Python 3.9.13 ('base')",
   "language": "python",
   "name": "python3"
  },
  "language_info": {
   "codemirror_mode": {
    "name": "ipython",
    "version": 3
   },
   "file_extension": ".py",
   "mimetype": "text/x-python",
   "name": "python",
   "nbconvert_exporter": "python",
   "pygments_lexer": "ipython3",
   "version": "3.9.13"
  },
  "orig_nbformat": 4,
  "vscode": {
   "interpreter": {
    "hash": "ad2bdc8ecc057115af97d19610ffacc2b4e99fae6737bb82f5d7fb13d2f2c186"
   }
  }
 },
 "nbformat": 4,
 "nbformat_minor": 2
}
